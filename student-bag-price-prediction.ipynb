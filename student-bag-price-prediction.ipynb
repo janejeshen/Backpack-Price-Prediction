{
 "cells": [
  {
   "cell_type": "markdown",
   "metadata": {},
   "source": [
    "# Data Understanding "
   ]
  },
  {
   "cell_type": "code",
   "execution_count": 5,
   "metadata": {},
   "outputs": [],
   "source": [
    "# Importing libraries\n",
    "import pandas as pd\n",
    "import numpy as np\n",
    "import seaborn as sns\n",
    "import matplotlib.pyplot as plt\n",
    "%matplotlib inline \n",
    "import warnings\n",
    "warnings.filterwarnings(\"ignore\")\n",
    "from scipy.stats import shapiro"
   ]
  },
  {
   "cell_type": "code",
   "execution_count": 6,
   "metadata": {},
   "outputs": [],
   "source": [
    "# Loading the data\n",
    "train = pd.read_csv(\"data/train.csv\")\n",
    "test = pd.read_csv(\"data/test.csv\")\n",
    "sample_submission = pd.read_csv(\"data/sample_submission.csv\")"
   ]
  },
  {
   "cell_type": "code",
   "execution_count": 7,
   "metadata": {},
   "outputs": [
    {
     "data": {
      "text/html": [
       "<div>\n",
       "<style scoped>\n",
       "    .dataframe tbody tr th:only-of-type {\n",
       "        vertical-align: middle;\n",
       "    }\n",
       "\n",
       "    .dataframe tbody tr th {\n",
       "        vertical-align: top;\n",
       "    }\n",
       "\n",
       "    .dataframe thead th {\n",
       "        text-align: right;\n",
       "    }\n",
       "</style>\n",
       "<table border=\"1\" class=\"dataframe\">\n",
       "  <thead>\n",
       "    <tr style=\"text-align: right;\">\n",
       "      <th></th>\n",
       "      <th>id</th>\n",
       "      <th>Brand</th>\n",
       "      <th>Material</th>\n",
       "      <th>Size</th>\n",
       "      <th>Compartments</th>\n",
       "      <th>Laptop Compartment</th>\n",
       "      <th>Waterproof</th>\n",
       "      <th>Style</th>\n",
       "      <th>Color</th>\n",
       "      <th>Weight Capacity (kg)</th>\n",
       "      <th>Price</th>\n",
       "    </tr>\n",
       "  </thead>\n",
       "  <tbody>\n",
       "    <tr>\n",
       "      <th>0</th>\n",
       "      <td>0</td>\n",
       "      <td>Jansport</td>\n",
       "      <td>Leather</td>\n",
       "      <td>Medium</td>\n",
       "      <td>7.0</td>\n",
       "      <td>Yes</td>\n",
       "      <td>No</td>\n",
       "      <td>Tote</td>\n",
       "      <td>Black</td>\n",
       "      <td>11.611723</td>\n",
       "      <td>112.15875</td>\n",
       "    </tr>\n",
       "    <tr>\n",
       "      <th>1</th>\n",
       "      <td>1</td>\n",
       "      <td>Jansport</td>\n",
       "      <td>Canvas</td>\n",
       "      <td>Small</td>\n",
       "      <td>10.0</td>\n",
       "      <td>Yes</td>\n",
       "      <td>Yes</td>\n",
       "      <td>Messenger</td>\n",
       "      <td>Green</td>\n",
       "      <td>27.078537</td>\n",
       "      <td>68.88056</td>\n",
       "    </tr>\n",
       "    <tr>\n",
       "      <th>2</th>\n",
       "      <td>2</td>\n",
       "      <td>Under Armour</td>\n",
       "      <td>Leather</td>\n",
       "      <td>Small</td>\n",
       "      <td>2.0</td>\n",
       "      <td>Yes</td>\n",
       "      <td>No</td>\n",
       "      <td>Messenger</td>\n",
       "      <td>Red</td>\n",
       "      <td>16.643760</td>\n",
       "      <td>39.17320</td>\n",
       "    </tr>\n",
       "    <tr>\n",
       "      <th>3</th>\n",
       "      <td>3</td>\n",
       "      <td>Nike</td>\n",
       "      <td>Nylon</td>\n",
       "      <td>Small</td>\n",
       "      <td>8.0</td>\n",
       "      <td>Yes</td>\n",
       "      <td>No</td>\n",
       "      <td>Messenger</td>\n",
       "      <td>Green</td>\n",
       "      <td>12.937220</td>\n",
       "      <td>80.60793</td>\n",
       "    </tr>\n",
       "    <tr>\n",
       "      <th>4</th>\n",
       "      <td>4</td>\n",
       "      <td>Adidas</td>\n",
       "      <td>Canvas</td>\n",
       "      <td>Medium</td>\n",
       "      <td>1.0</td>\n",
       "      <td>Yes</td>\n",
       "      <td>Yes</td>\n",
       "      <td>Messenger</td>\n",
       "      <td>Green</td>\n",
       "      <td>17.749338</td>\n",
       "      <td>86.02312</td>\n",
       "    </tr>\n",
       "  </tbody>\n",
       "</table>\n",
       "</div>"
      ],
      "text/plain": [
       "   id         Brand Material    Size  Compartments Laptop Compartment  \\\n",
       "0   0      Jansport  Leather  Medium           7.0                Yes   \n",
       "1   1      Jansport   Canvas   Small          10.0                Yes   \n",
       "2   2  Under Armour  Leather   Small           2.0                Yes   \n",
       "3   3          Nike    Nylon   Small           8.0                Yes   \n",
       "4   4        Adidas   Canvas  Medium           1.0                Yes   \n",
       "\n",
       "  Waterproof      Style  Color  Weight Capacity (kg)      Price  \n",
       "0         No       Tote  Black             11.611723  112.15875  \n",
       "1        Yes  Messenger  Green             27.078537   68.88056  \n",
       "2         No  Messenger    Red             16.643760   39.17320  \n",
       "3         No  Messenger  Green             12.937220   80.60793  \n",
       "4        Yes  Messenger  Green             17.749338   86.02312  "
      ]
     },
     "execution_count": 7,
     "metadata": {},
     "output_type": "execute_result"
    }
   ],
   "source": [
    "# previewing the first five rows of the train set\n",
    "train.head()"
   ]
  },
  {
   "cell_type": "code",
   "execution_count": 8,
   "metadata": {},
   "outputs": [
    {
     "data": {
      "text/html": [
       "<div>\n",
       "<style scoped>\n",
       "    .dataframe tbody tr th:only-of-type {\n",
       "        vertical-align: middle;\n",
       "    }\n",
       "\n",
       "    .dataframe tbody tr th {\n",
       "        vertical-align: top;\n",
       "    }\n",
       "\n",
       "    .dataframe thead th {\n",
       "        text-align: right;\n",
       "    }\n",
       "</style>\n",
       "<table border=\"1\" class=\"dataframe\">\n",
       "  <thead>\n",
       "    <tr style=\"text-align: right;\">\n",
       "      <th></th>\n",
       "      <th>id</th>\n",
       "      <th>Brand</th>\n",
       "      <th>Material</th>\n",
       "      <th>Size</th>\n",
       "      <th>Compartments</th>\n",
       "      <th>Laptop Compartment</th>\n",
       "      <th>Waterproof</th>\n",
       "      <th>Style</th>\n",
       "      <th>Color</th>\n",
       "      <th>Weight Capacity (kg)</th>\n",
       "      <th>Price</th>\n",
       "    </tr>\n",
       "  </thead>\n",
       "  <tbody>\n",
       "    <tr>\n",
       "      <th>299995</th>\n",
       "      <td>299995</td>\n",
       "      <td>Adidas</td>\n",
       "      <td>Leather</td>\n",
       "      <td>Small</td>\n",
       "      <td>9.0</td>\n",
       "      <td>No</td>\n",
       "      <td>No</td>\n",
       "      <td>Tote</td>\n",
       "      <td>Blue</td>\n",
       "      <td>12.730812</td>\n",
       "      <td>129.99749</td>\n",
       "    </tr>\n",
       "    <tr>\n",
       "      <th>299996</th>\n",
       "      <td>299996</td>\n",
       "      <td>Jansport</td>\n",
       "      <td>Leather</td>\n",
       "      <td>Large</td>\n",
       "      <td>6.0</td>\n",
       "      <td>No</td>\n",
       "      <td>Yes</td>\n",
       "      <td>Tote</td>\n",
       "      <td>Blue</td>\n",
       "      <td>26.633182</td>\n",
       "      <td>19.85819</td>\n",
       "    </tr>\n",
       "    <tr>\n",
       "      <th>299997</th>\n",
       "      <td>299997</td>\n",
       "      <td>Puma</td>\n",
       "      <td>Canvas</td>\n",
       "      <td>Large</td>\n",
       "      <td>9.0</td>\n",
       "      <td>Yes</td>\n",
       "      <td>Yes</td>\n",
       "      <td>Backpack</td>\n",
       "      <td>Pink</td>\n",
       "      <td>11.898250</td>\n",
       "      <td>111.41364</td>\n",
       "    </tr>\n",
       "    <tr>\n",
       "      <th>299998</th>\n",
       "      <td>299998</td>\n",
       "      <td>Adidas</td>\n",
       "      <td>Nylon</td>\n",
       "      <td>Small</td>\n",
       "      <td>1.0</td>\n",
       "      <td>No</td>\n",
       "      <td>Yes</td>\n",
       "      <td>Tote</td>\n",
       "      <td>Pink</td>\n",
       "      <td>6.175738</td>\n",
       "      <td>115.89080</td>\n",
       "    </tr>\n",
       "    <tr>\n",
       "      <th>299999</th>\n",
       "      <td>299999</td>\n",
       "      <td>Under Armour</td>\n",
       "      <td>Canvas</td>\n",
       "      <td>Small</td>\n",
       "      <td>2.0</td>\n",
       "      <td>No</td>\n",
       "      <td>Yes</td>\n",
       "      <td>Backpack</td>\n",
       "      <td>Black</td>\n",
       "      <td>18.568865</td>\n",
       "      <td>26.72762</td>\n",
       "    </tr>\n",
       "  </tbody>\n",
       "</table>\n",
       "</div>"
      ],
      "text/plain": [
       "            id         Brand Material   Size  Compartments Laptop Compartment  \\\n",
       "299995  299995        Adidas  Leather  Small           9.0                 No   \n",
       "299996  299996      Jansport  Leather  Large           6.0                 No   \n",
       "299997  299997          Puma   Canvas  Large           9.0                Yes   \n",
       "299998  299998        Adidas    Nylon  Small           1.0                 No   \n",
       "299999  299999  Under Armour   Canvas  Small           2.0                 No   \n",
       "\n",
       "       Waterproof     Style  Color  Weight Capacity (kg)      Price  \n",
       "299995         No      Tote   Blue             12.730812  129.99749  \n",
       "299996        Yes      Tote   Blue             26.633182   19.85819  \n",
       "299997        Yes  Backpack   Pink             11.898250  111.41364  \n",
       "299998        Yes      Tote   Pink              6.175738  115.89080  \n",
       "299999        Yes  Backpack  Black             18.568865   26.72762  "
      ]
     },
     "execution_count": 8,
     "metadata": {},
     "output_type": "execute_result"
    }
   ],
   "source": [
    "# previewing the last five rows of the train set\n",
    "train.tail()"
   ]
  },
  {
   "cell_type": "code",
   "execution_count": 9,
   "metadata": {},
   "outputs": [
    {
     "data": {
      "text/html": [
       "<div>\n",
       "<style scoped>\n",
       "    .dataframe tbody tr th:only-of-type {\n",
       "        vertical-align: middle;\n",
       "    }\n",
       "\n",
       "    .dataframe tbody tr th {\n",
       "        vertical-align: top;\n",
       "    }\n",
       "\n",
       "    .dataframe thead th {\n",
       "        text-align: right;\n",
       "    }\n",
       "</style>\n",
       "<table border=\"1\" class=\"dataframe\">\n",
       "  <thead>\n",
       "    <tr style=\"text-align: right;\">\n",
       "      <th></th>\n",
       "      <th>id</th>\n",
       "      <th>Brand</th>\n",
       "      <th>Material</th>\n",
       "      <th>Size</th>\n",
       "      <th>Compartments</th>\n",
       "      <th>Laptop Compartment</th>\n",
       "      <th>Waterproof</th>\n",
       "      <th>Style</th>\n",
       "      <th>Color</th>\n",
       "      <th>Weight Capacity (kg)</th>\n",
       "    </tr>\n",
       "  </thead>\n",
       "  <tbody>\n",
       "    <tr>\n",
       "      <th>0</th>\n",
       "      <td>300000</td>\n",
       "      <td>Puma</td>\n",
       "      <td>Leather</td>\n",
       "      <td>Small</td>\n",
       "      <td>2.0</td>\n",
       "      <td>No</td>\n",
       "      <td>No</td>\n",
       "      <td>Tote</td>\n",
       "      <td>Green</td>\n",
       "      <td>20.671147</td>\n",
       "    </tr>\n",
       "    <tr>\n",
       "      <th>1</th>\n",
       "      <td>300001</td>\n",
       "      <td>Nike</td>\n",
       "      <td>Canvas</td>\n",
       "      <td>Medium</td>\n",
       "      <td>7.0</td>\n",
       "      <td>No</td>\n",
       "      <td>Yes</td>\n",
       "      <td>Backpack</td>\n",
       "      <td>Green</td>\n",
       "      <td>13.564105</td>\n",
       "    </tr>\n",
       "    <tr>\n",
       "      <th>2</th>\n",
       "      <td>300002</td>\n",
       "      <td>Adidas</td>\n",
       "      <td>Canvas</td>\n",
       "      <td>Large</td>\n",
       "      <td>9.0</td>\n",
       "      <td>No</td>\n",
       "      <td>Yes</td>\n",
       "      <td>Messenger</td>\n",
       "      <td>Blue</td>\n",
       "      <td>11.809799</td>\n",
       "    </tr>\n",
       "    <tr>\n",
       "      <th>3</th>\n",
       "      <td>300003</td>\n",
       "      <td>Adidas</td>\n",
       "      <td>Nylon</td>\n",
       "      <td>Large</td>\n",
       "      <td>1.0</td>\n",
       "      <td>Yes</td>\n",
       "      <td>No</td>\n",
       "      <td>Messenger</td>\n",
       "      <td>Green</td>\n",
       "      <td>18.477036</td>\n",
       "    </tr>\n",
       "    <tr>\n",
       "      <th>4</th>\n",
       "      <td>300004</td>\n",
       "      <td>NaN</td>\n",
       "      <td>Nylon</td>\n",
       "      <td>Large</td>\n",
       "      <td>2.0</td>\n",
       "      <td>Yes</td>\n",
       "      <td>Yes</td>\n",
       "      <td>Tote</td>\n",
       "      <td>Black</td>\n",
       "      <td>9.907953</td>\n",
       "    </tr>\n",
       "  </tbody>\n",
       "</table>\n",
       "</div>"
      ],
      "text/plain": [
       "       id   Brand Material    Size  Compartments Laptop Compartment  \\\n",
       "0  300000    Puma  Leather   Small           2.0                 No   \n",
       "1  300001    Nike   Canvas  Medium           7.0                 No   \n",
       "2  300002  Adidas   Canvas   Large           9.0                 No   \n",
       "3  300003  Adidas    Nylon   Large           1.0                Yes   \n",
       "4  300004     NaN    Nylon   Large           2.0                Yes   \n",
       "\n",
       "  Waterproof      Style  Color  Weight Capacity (kg)  \n",
       "0         No       Tote  Green             20.671147  \n",
       "1        Yes   Backpack  Green             13.564105  \n",
       "2        Yes  Messenger   Blue             11.809799  \n",
       "3         No  Messenger  Green             18.477036  \n",
       "4        Yes       Tote  Black              9.907953  "
      ]
     },
     "execution_count": 9,
     "metadata": {},
     "output_type": "execute_result"
    }
   ],
   "source": [
    "# previewing the first five rows of the test set\n",
    "test.head()"
   ]
  },
  {
   "cell_type": "code",
   "execution_count": 10,
   "metadata": {},
   "outputs": [
    {
     "data": {
      "text/html": [
       "<div>\n",
       "<style scoped>\n",
       "    .dataframe tbody tr th:only-of-type {\n",
       "        vertical-align: middle;\n",
       "    }\n",
       "\n",
       "    .dataframe tbody tr th {\n",
       "        vertical-align: top;\n",
       "    }\n",
       "\n",
       "    .dataframe thead th {\n",
       "        text-align: right;\n",
       "    }\n",
       "</style>\n",
       "<table border=\"1\" class=\"dataframe\">\n",
       "  <thead>\n",
       "    <tr style=\"text-align: right;\">\n",
       "      <th></th>\n",
       "      <th>id</th>\n",
       "      <th>Brand</th>\n",
       "      <th>Material</th>\n",
       "      <th>Size</th>\n",
       "      <th>Compartments</th>\n",
       "      <th>Laptop Compartment</th>\n",
       "      <th>Waterproof</th>\n",
       "      <th>Style</th>\n",
       "      <th>Color</th>\n",
       "      <th>Weight Capacity (kg)</th>\n",
       "    </tr>\n",
       "  </thead>\n",
       "  <tbody>\n",
       "    <tr>\n",
       "      <th>199995</th>\n",
       "      <td>499995</td>\n",
       "      <td>Adidas</td>\n",
       "      <td>Canvas</td>\n",
       "      <td>Large</td>\n",
       "      <td>2.0</td>\n",
       "      <td>Yes</td>\n",
       "      <td>No</td>\n",
       "      <td>Messenger</td>\n",
       "      <td>Red</td>\n",
       "      <td>7.383498</td>\n",
       "    </tr>\n",
       "    <tr>\n",
       "      <th>199996</th>\n",
       "      <td>499996</td>\n",
       "      <td>Nike</td>\n",
       "      <td>Polyester</td>\n",
       "      <td>Small</td>\n",
       "      <td>9.0</td>\n",
       "      <td>No</td>\n",
       "      <td>Yes</td>\n",
       "      <td>Messenger</td>\n",
       "      <td>Pink</td>\n",
       "      <td>6.058394</td>\n",
       "    </tr>\n",
       "    <tr>\n",
       "      <th>199997</th>\n",
       "      <td>499997</td>\n",
       "      <td>Jansport</td>\n",
       "      <td>Nylon</td>\n",
       "      <td>Small</td>\n",
       "      <td>9.0</td>\n",
       "      <td>No</td>\n",
       "      <td>Yes</td>\n",
       "      <td>Tote</td>\n",
       "      <td>Green</td>\n",
       "      <td>26.890163</td>\n",
       "    </tr>\n",
       "    <tr>\n",
       "      <th>199998</th>\n",
       "      <td>499998</td>\n",
       "      <td>Puma</td>\n",
       "      <td>Nylon</td>\n",
       "      <td>Large</td>\n",
       "      <td>10.0</td>\n",
       "      <td>Yes</td>\n",
       "      <td>No</td>\n",
       "      <td>Tote</td>\n",
       "      <td>Gray</td>\n",
       "      <td>25.769153</td>\n",
       "    </tr>\n",
       "    <tr>\n",
       "      <th>199999</th>\n",
       "      <td>499999</td>\n",
       "      <td>Under Armour</td>\n",
       "      <td>Leather</td>\n",
       "      <td>Medium</td>\n",
       "      <td>8.0</td>\n",
       "      <td>Yes</td>\n",
       "      <td>Yes</td>\n",
       "      <td>Messenger</td>\n",
       "      <td>Pink</td>\n",
       "      <td>29.175026</td>\n",
       "    </tr>\n",
       "  </tbody>\n",
       "</table>\n",
       "</div>"
      ],
      "text/plain": [
       "            id         Brand   Material    Size  Compartments  \\\n",
       "199995  499995        Adidas     Canvas   Large           2.0   \n",
       "199996  499996          Nike  Polyester   Small           9.0   \n",
       "199997  499997      Jansport      Nylon   Small           9.0   \n",
       "199998  499998          Puma      Nylon   Large          10.0   \n",
       "199999  499999  Under Armour    Leather  Medium           8.0   \n",
       "\n",
       "       Laptop Compartment Waterproof      Style  Color  Weight Capacity (kg)  \n",
       "199995                Yes         No  Messenger    Red              7.383498  \n",
       "199996                 No        Yes  Messenger   Pink              6.058394  \n",
       "199997                 No        Yes       Tote  Green             26.890163  \n",
       "199998                Yes         No       Tote   Gray             25.769153  \n",
       "199999                Yes        Yes  Messenger   Pink             29.175026  "
      ]
     },
     "execution_count": 10,
     "metadata": {},
     "output_type": "execute_result"
    }
   ],
   "source": [
    "# previewing the last five rows of the test set\n",
    "test.tail()"
   ]
  },
  {
   "cell_type": "code",
   "execution_count": 11,
   "metadata": {},
   "outputs": [
    {
     "name": "stdout",
     "output_type": "stream",
     "text": [
      "The train dataset has 300000 rows and 11 columns\n",
      "The test dataset has 200000 rows and 10 columns\n"
     ]
    }
   ],
   "source": [
    "# Checking the shape of the dataset\n",
    "print(f\"The train dataset has {train.shape[0]} rows and {train.shape[1]} columns\")\n",
    "print(f\"The test dataset has {test.shape[0]} rows and {test.shape[1]} columns\")"
   ]
  },
  {
   "cell_type": "code",
   "execution_count": 12,
   "metadata": {},
   "outputs": [
    {
     "name": "stdout",
     "output_type": "stream",
     "text": [
      "<class 'pandas.core.frame.DataFrame'>\n",
      "RangeIndex: 300000 entries, 0 to 299999\n",
      "Data columns (total 11 columns):\n",
      " #   Column                Non-Null Count   Dtype  \n",
      "---  ------                --------------   -----  \n",
      " 0   id                    300000 non-null  int64  \n",
      " 1   Brand                 290295 non-null  object \n",
      " 2   Material              291653 non-null  object \n",
      " 3   Size                  293405 non-null  object \n",
      " 4   Compartments          300000 non-null  float64\n",
      " 5   Laptop Compartment    292556 non-null  object \n",
      " 6   Waterproof            292950 non-null  object \n",
      " 7   Style                 292030 non-null  object \n",
      " 8   Color                 290050 non-null  object \n",
      " 9   Weight Capacity (kg)  299862 non-null  float64\n",
      " 10  Price                 300000 non-null  float64\n",
      "dtypes: float64(3), int64(1), object(7)\n",
      "memory usage: 25.2+ MB\n"
     ]
    }
   ],
   "source": [
    "# Getting more information about the dataset\n",
    "train.info()"
   ]
  },
  {
   "cell_type": "code",
   "execution_count": 13,
   "metadata": {},
   "outputs": [
    {
     "name": "stdout",
     "output_type": "stream",
     "text": [
      "<class 'pandas.core.frame.DataFrame'>\n",
      "RangeIndex: 200000 entries, 0 to 199999\n",
      "Data columns (total 10 columns):\n",
      " #   Column                Non-Null Count   Dtype  \n",
      "---  ------                --------------   -----  \n",
      " 0   id                    200000 non-null  int64  \n",
      " 1   Brand                 193773 non-null  object \n",
      " 2   Material              194387 non-null  object \n",
      " 3   Size                  195619 non-null  object \n",
      " 4   Compartments          200000 non-null  float64\n",
      " 5   Laptop Compartment    195038 non-null  object \n",
      " 6   Waterproof            195189 non-null  object \n",
      " 7   Style                 194847 non-null  object \n",
      " 8   Color                 193215 non-null  object \n",
      " 9   Weight Capacity (kg)  199923 non-null  float64\n",
      "dtypes: float64(2), int64(1), object(7)\n",
      "memory usage: 15.3+ MB\n"
     ]
    }
   ],
   "source": [
    "# Getting more information about the dataset\n",
    "test.info()"
   ]
  },
  {
   "cell_type": "code",
   "execution_count": 14,
   "metadata": {},
   "outputs": [
    {
     "data": {
      "text/html": [
       "<div>\n",
       "<style scoped>\n",
       "    .dataframe tbody tr th:only-of-type {\n",
       "        vertical-align: middle;\n",
       "    }\n",
       "\n",
       "    .dataframe tbody tr th {\n",
       "        vertical-align: top;\n",
       "    }\n",
       "\n",
       "    .dataframe thead th {\n",
       "        text-align: right;\n",
       "    }\n",
       "</style>\n",
       "<table border=\"1\" class=\"dataframe\">\n",
       "  <thead>\n",
       "    <tr style=\"text-align: right;\">\n",
       "      <th></th>\n",
       "      <th>count</th>\n",
       "      <th>unique</th>\n",
       "      <th>top</th>\n",
       "      <th>freq</th>\n",
       "      <th>mean</th>\n",
       "      <th>std</th>\n",
       "      <th>min</th>\n",
       "      <th>25%</th>\n",
       "      <th>50%</th>\n",
       "      <th>75%</th>\n",
       "      <th>max</th>\n",
       "    </tr>\n",
       "  </thead>\n",
       "  <tbody>\n",
       "    <tr>\n",
       "      <th>id</th>\n",
       "      <td>300000.0</td>\n",
       "      <td>NaN</td>\n",
       "      <td>NaN</td>\n",
       "      <td>NaN</td>\n",
       "      <td>149999.5</td>\n",
       "      <td>86602.684716</td>\n",
       "      <td>0.0</td>\n",
       "      <td>74999.75</td>\n",
       "      <td>149999.5</td>\n",
       "      <td>224999.25</td>\n",
       "      <td>299999.0</td>\n",
       "    </tr>\n",
       "    <tr>\n",
       "      <th>Brand</th>\n",
       "      <td>290295</td>\n",
       "      <td>5</td>\n",
       "      <td>Adidas</td>\n",
       "      <td>60077</td>\n",
       "      <td>NaN</td>\n",
       "      <td>NaN</td>\n",
       "      <td>NaN</td>\n",
       "      <td>NaN</td>\n",
       "      <td>NaN</td>\n",
       "      <td>NaN</td>\n",
       "      <td>NaN</td>\n",
       "    </tr>\n",
       "    <tr>\n",
       "      <th>Material</th>\n",
       "      <td>291653</td>\n",
       "      <td>4</td>\n",
       "      <td>Polyester</td>\n",
       "      <td>79630</td>\n",
       "      <td>NaN</td>\n",
       "      <td>NaN</td>\n",
       "      <td>NaN</td>\n",
       "      <td>NaN</td>\n",
       "      <td>NaN</td>\n",
       "      <td>NaN</td>\n",
       "      <td>NaN</td>\n",
       "    </tr>\n",
       "    <tr>\n",
       "      <th>Size</th>\n",
       "      <td>293405</td>\n",
       "      <td>3</td>\n",
       "      <td>Medium</td>\n",
       "      <td>101906</td>\n",
       "      <td>NaN</td>\n",
       "      <td>NaN</td>\n",
       "      <td>NaN</td>\n",
       "      <td>NaN</td>\n",
       "      <td>NaN</td>\n",
       "      <td>NaN</td>\n",
       "      <td>NaN</td>\n",
       "    </tr>\n",
       "    <tr>\n",
       "      <th>Compartments</th>\n",
       "      <td>300000.0</td>\n",
       "      <td>NaN</td>\n",
       "      <td>NaN</td>\n",
       "      <td>NaN</td>\n",
       "      <td>5.44359</td>\n",
       "      <td>2.890766</td>\n",
       "      <td>1.0</td>\n",
       "      <td>3.0</td>\n",
       "      <td>5.0</td>\n",
       "      <td>8.0</td>\n",
       "      <td>10.0</td>\n",
       "    </tr>\n",
       "    <tr>\n",
       "      <th>Laptop Compartment</th>\n",
       "      <td>292556</td>\n",
       "      <td>2</td>\n",
       "      <td>Yes</td>\n",
       "      <td>148342</td>\n",
       "      <td>NaN</td>\n",
       "      <td>NaN</td>\n",
       "      <td>NaN</td>\n",
       "      <td>NaN</td>\n",
       "      <td>NaN</td>\n",
       "      <td>NaN</td>\n",
       "      <td>NaN</td>\n",
       "    </tr>\n",
       "    <tr>\n",
       "      <th>Waterproof</th>\n",
       "      <td>292950</td>\n",
       "      <td>2</td>\n",
       "      <td>Yes</td>\n",
       "      <td>148077</td>\n",
       "      <td>NaN</td>\n",
       "      <td>NaN</td>\n",
       "      <td>NaN</td>\n",
       "      <td>NaN</td>\n",
       "      <td>NaN</td>\n",
       "      <td>NaN</td>\n",
       "      <td>NaN</td>\n",
       "    </tr>\n",
       "    <tr>\n",
       "      <th>Style</th>\n",
       "      <td>292030</td>\n",
       "      <td>3</td>\n",
       "      <td>Messenger</td>\n",
       "      <td>100031</td>\n",
       "      <td>NaN</td>\n",
       "      <td>NaN</td>\n",
       "      <td>NaN</td>\n",
       "      <td>NaN</td>\n",
       "      <td>NaN</td>\n",
       "      <td>NaN</td>\n",
       "      <td>NaN</td>\n",
       "    </tr>\n",
       "    <tr>\n",
       "      <th>Color</th>\n",
       "      <td>290050</td>\n",
       "      <td>6</td>\n",
       "      <td>Pink</td>\n",
       "      <td>51690</td>\n",
       "      <td>NaN</td>\n",
       "      <td>NaN</td>\n",
       "      <td>NaN</td>\n",
       "      <td>NaN</td>\n",
       "      <td>NaN</td>\n",
       "      <td>NaN</td>\n",
       "      <td>NaN</td>\n",
       "    </tr>\n",
       "    <tr>\n",
       "      <th>Weight Capacity (kg)</th>\n",
       "      <td>299862.0</td>\n",
       "      <td>NaN</td>\n",
       "      <td>NaN</td>\n",
       "      <td>NaN</td>\n",
       "      <td>18.029994</td>\n",
       "      <td>6.966914</td>\n",
       "      <td>5.0</td>\n",
       "      <td>12.097867</td>\n",
       "      <td>18.068614</td>\n",
       "      <td>24.002375</td>\n",
       "      <td>30.0</td>\n",
       "    </tr>\n",
       "    <tr>\n",
       "      <th>Price</th>\n",
       "      <td>300000.0</td>\n",
       "      <td>NaN</td>\n",
       "      <td>NaN</td>\n",
       "      <td>NaN</td>\n",
       "      <td>81.411107</td>\n",
       "      <td>39.03934</td>\n",
       "      <td>15.0</td>\n",
       "      <td>47.38462</td>\n",
       "      <td>80.95612</td>\n",
       "      <td>115.01816</td>\n",
       "      <td>150.0</td>\n",
       "    </tr>\n",
       "  </tbody>\n",
       "</table>\n",
       "</div>"
      ],
      "text/plain": [
       "                         count unique        top    freq       mean  \\\n",
       "id                    300000.0    NaN        NaN     NaN   149999.5   \n",
       "Brand                   290295      5     Adidas   60077        NaN   \n",
       "Material                291653      4  Polyester   79630        NaN   \n",
       "Size                    293405      3     Medium  101906        NaN   \n",
       "Compartments          300000.0    NaN        NaN     NaN    5.44359   \n",
       "Laptop Compartment      292556      2        Yes  148342        NaN   \n",
       "Waterproof              292950      2        Yes  148077        NaN   \n",
       "Style                   292030      3  Messenger  100031        NaN   \n",
       "Color                   290050      6       Pink   51690        NaN   \n",
       "Weight Capacity (kg)  299862.0    NaN        NaN     NaN  18.029994   \n",
       "Price                 300000.0    NaN        NaN     NaN  81.411107   \n",
       "\n",
       "                               std   min        25%        50%        75%  \\\n",
       "id                    86602.684716   0.0   74999.75   149999.5  224999.25   \n",
       "Brand                          NaN   NaN        NaN        NaN        NaN   \n",
       "Material                       NaN   NaN        NaN        NaN        NaN   \n",
       "Size                           NaN   NaN        NaN        NaN        NaN   \n",
       "Compartments              2.890766   1.0        3.0        5.0        8.0   \n",
       "Laptop Compartment             NaN   NaN        NaN        NaN        NaN   \n",
       "Waterproof                     NaN   NaN        NaN        NaN        NaN   \n",
       "Style                          NaN   NaN        NaN        NaN        NaN   \n",
       "Color                          NaN   NaN        NaN        NaN        NaN   \n",
       "Weight Capacity (kg)      6.966914   5.0  12.097867  18.068614  24.002375   \n",
       "Price                     39.03934  15.0   47.38462   80.95612  115.01816   \n",
       "\n",
       "                           max  \n",
       "id                    299999.0  \n",
       "Brand                      NaN  \n",
       "Material                   NaN  \n",
       "Size                       NaN  \n",
       "Compartments              10.0  \n",
       "Laptop Compartment         NaN  \n",
       "Waterproof                 NaN  \n",
       "Style                      NaN  \n",
       "Color                      NaN  \n",
       "Weight Capacity (kg)      30.0  \n",
       "Price                    150.0  "
      ]
     },
     "execution_count": 14,
     "metadata": {},
     "output_type": "execute_result"
    }
   ],
   "source": [
    "# Summary statistics\n",
    "train.describe(include=\"all\").T"
   ]
  },
  {
   "cell_type": "code",
   "execution_count": 15,
   "metadata": {},
   "outputs": [
    {
     "data": {
      "text/plain": [
       "id                      0.000000\n",
       "Brand                   3.235000\n",
       "Material                2.782333\n",
       "Size                    2.198333\n",
       "Compartments            0.000000\n",
       "Laptop Compartment      2.481333\n",
       "Waterproof              2.350000\n",
       "Style                   2.656667\n",
       "Color                   3.316667\n",
       "Weight Capacity (kg)    0.046000\n",
       "Price                   0.000000\n",
       "dtype: float64"
      ]
     },
     "execution_count": 15,
     "metadata": {},
     "output_type": "execute_result"
    }
   ],
   "source": [
    "# Checking for missing values on the train set\n",
    "missing_value_percentage_train = (train.isna().sum()/len(train)) * 100\n",
    "missing_value_percentage_train"
   ]
  },
  {
   "cell_type": "code",
   "execution_count": 16,
   "metadata": {},
   "outputs": [
    {
     "data": {
      "text/plain": [
       "id                      0.0000\n",
       "Brand                   3.1135\n",
       "Material                2.8065\n",
       "Size                    2.1905\n",
       "Compartments            0.0000\n",
       "Laptop Compartment      2.4810\n",
       "Waterproof              2.4055\n",
       "Style                   2.5765\n",
       "Color                   3.3925\n",
       "Weight Capacity (kg)    0.0385\n",
       "dtype: float64"
      ]
     },
     "execution_count": 16,
     "metadata": {},
     "output_type": "execute_result"
    }
   ],
   "source": [
    "# Checking for missing values on the train set\n",
    "missing_value_percentage_test = (test.isna().sum()/len(test)) * 100\n",
    "missing_value_percentage_test"
   ]
  },
  {
   "cell_type": "code",
   "execution_count": 17,
   "metadata": {},
   "outputs": [
    {
     "data": {
      "text/plain": [
       "0"
      ]
     },
     "execution_count": 17,
     "metadata": {},
     "output_type": "execute_result"
    }
   ],
   "source": [
    "# Checking for duplicated values in train set\n",
    "train.duplicated().sum()"
   ]
  },
  {
   "cell_type": "code",
   "execution_count": 18,
   "metadata": {},
   "outputs": [
    {
     "data": {
      "text/plain": [
       "0"
      ]
     },
     "execution_count": 18,
     "metadata": {},
     "output_type": "execute_result"
    }
   ],
   "source": [
    "# Checking for duplicated values in train set\n",
    "test.duplicated().sum()"
   ]
  },
  {
   "cell_type": "markdown",
   "metadata": {},
   "source": [
    "* id column should be of object data type.\n",
    "* Compartments column should be an integer.\n",
    "* Several columns has missing values.\n",
    "* No duplicated values\n",
    "# Data Preprocessing\n",
    "### Type casting"
   ]
  },
  {
   "cell_type": "code",
   "execution_count": 21,
   "metadata": {},
   "outputs": [],
   "source": [
    "# Converting compartments column data type to integer\n",
    "train[\"Compartments\"] = train[\"Compartments\"].astype(\"int\")\n",
    "test[\"Compartments\"] = test[\"Compartments\"].astype(\"int\")"
   ]
  },
  {
   "cell_type": "code",
   "execution_count": 22,
   "metadata": {},
   "outputs": [],
   "source": [
    "# Converting id column data type to object\n",
    "train[\"id\"] = train[\"id\"].astype(\"object\")\n",
    "test[\"id\"] = test[\"id\"].astype(\"object\")"
   ]
  },
  {
   "cell_type": "markdown",
   "metadata": {},
   "source": [
    "### Handling missing values"
   ]
  },
  {
   "cell_type": "code",
   "execution_count": 24,
   "metadata": {},
   "outputs": [
    {
     "data": {
      "text/html": [
       "<div>\n",
       "<style scoped>\n",
       "    .dataframe tbody tr th:only-of-type {\n",
       "        vertical-align: middle;\n",
       "    }\n",
       "\n",
       "    .dataframe tbody tr th {\n",
       "        vertical-align: top;\n",
       "    }\n",
       "\n",
       "    .dataframe thead th {\n",
       "        text-align: right;\n",
       "    }\n",
       "</style>\n",
       "<table border=\"1\" class=\"dataframe\">\n",
       "  <thead>\n",
       "    <tr style=\"text-align: right;\">\n",
       "      <th></th>\n",
       "      <th>id</th>\n",
       "      <th>Brand</th>\n",
       "      <th>Material</th>\n",
       "      <th>Size</th>\n",
       "      <th>Compartments</th>\n",
       "      <th>Laptop Compartment</th>\n",
       "      <th>Waterproof</th>\n",
       "      <th>Style</th>\n",
       "      <th>Color</th>\n",
       "      <th>Weight Capacity (kg)</th>\n",
       "      <th>Price</th>\n",
       "    </tr>\n",
       "  </thead>\n",
       "  <tbody>\n",
       "    <tr>\n",
       "      <th>5</th>\n",
       "      <td>5</td>\n",
       "      <td>Nike</td>\n",
       "      <td>Canvas</td>\n",
       "      <td>Medium</td>\n",
       "      <td>10</td>\n",
       "      <td>No</td>\n",
       "      <td>Yes</td>\n",
       "      <td>NaN</td>\n",
       "      <td>Black</td>\n",
       "      <td>7.241812</td>\n",
       "      <td>20.01553</td>\n",
       "    </tr>\n",
       "    <tr>\n",
       "      <th>6</th>\n",
       "      <td>6</td>\n",
       "      <td>Nike</td>\n",
       "      <td>NaN</td>\n",
       "      <td>Large</td>\n",
       "      <td>3</td>\n",
       "      <td>No</td>\n",
       "      <td>No</td>\n",
       "      <td>Backpack</td>\n",
       "      <td>Green</td>\n",
       "      <td>6.828123</td>\n",
       "      <td>84.80500</td>\n",
       "    </tr>\n",
       "    <tr>\n",
       "      <th>10</th>\n",
       "      <td>10</td>\n",
       "      <td>Nike</td>\n",
       "      <td>Polyester</td>\n",
       "      <td>Large</td>\n",
       "      <td>1</td>\n",
       "      <td>Yes</td>\n",
       "      <td>No</td>\n",
       "      <td>Backpack</td>\n",
       "      <td>NaN</td>\n",
       "      <td>27.806951</td>\n",
       "      <td>68.31047</td>\n",
       "    </tr>\n",
       "    <tr>\n",
       "      <th>11</th>\n",
       "      <td>11</td>\n",
       "      <td>Nike</td>\n",
       "      <td>Polyester</td>\n",
       "      <td>NaN</td>\n",
       "      <td>10</td>\n",
       "      <td>No</td>\n",
       "      <td>No</td>\n",
       "      <td>NaN</td>\n",
       "      <td>Gray</td>\n",
       "      <td>13.697554</td>\n",
       "      <td>23.25963</td>\n",
       "    </tr>\n",
       "    <tr>\n",
       "      <th>21</th>\n",
       "      <td>21</td>\n",
       "      <td>Under Armour</td>\n",
       "      <td>Polyester</td>\n",
       "      <td>NaN</td>\n",
       "      <td>9</td>\n",
       "      <td>Yes</td>\n",
       "      <td>Yes</td>\n",
       "      <td>Messenger</td>\n",
       "      <td>Gray</td>\n",
       "      <td>11.219052</td>\n",
       "      <td>35.46348</td>\n",
       "    </tr>\n",
       "    <tr>\n",
       "      <th>22</th>\n",
       "      <td>22</td>\n",
       "      <td>Puma</td>\n",
       "      <td>Nylon</td>\n",
       "      <td>Large</td>\n",
       "      <td>7</td>\n",
       "      <td>Yes</td>\n",
       "      <td>NaN</td>\n",
       "      <td>Backpack</td>\n",
       "      <td>Gray</td>\n",
       "      <td>17.181182</td>\n",
       "      <td>132.68502</td>\n",
       "    </tr>\n",
       "    <tr>\n",
       "      <th>30</th>\n",
       "      <td>30</td>\n",
       "      <td>NaN</td>\n",
       "      <td>Leather</td>\n",
       "      <td>Large</td>\n",
       "      <td>3</td>\n",
       "      <td>No</td>\n",
       "      <td>Yes</td>\n",
       "      <td>Tote</td>\n",
       "      <td>Blue</td>\n",
       "      <td>21.304434</td>\n",
       "      <td>138.32699</td>\n",
       "    </tr>\n",
       "    <tr>\n",
       "      <th>38</th>\n",
       "      <td>38</td>\n",
       "      <td>Adidas</td>\n",
       "      <td>Polyester</td>\n",
       "      <td>NaN</td>\n",
       "      <td>5</td>\n",
       "      <td>Yes</td>\n",
       "      <td>Yes</td>\n",
       "      <td>Messenger</td>\n",
       "      <td>Black</td>\n",
       "      <td>21.547849</td>\n",
       "      <td>53.54452</td>\n",
       "    </tr>\n",
       "    <tr>\n",
       "      <th>48</th>\n",
       "      <td>48</td>\n",
       "      <td>NaN</td>\n",
       "      <td>Canvas</td>\n",
       "      <td>Medium</td>\n",
       "      <td>2</td>\n",
       "      <td>No</td>\n",
       "      <td>No</td>\n",
       "      <td>Tote</td>\n",
       "      <td>NaN</td>\n",
       "      <td>5.000000</td>\n",
       "      <td>42.28337</td>\n",
       "    </tr>\n",
       "    <tr>\n",
       "      <th>54</th>\n",
       "      <td>54</td>\n",
       "      <td>Adidas</td>\n",
       "      <td>Polyester</td>\n",
       "      <td>Small</td>\n",
       "      <td>1</td>\n",
       "      <td>NaN</td>\n",
       "      <td>Yes</td>\n",
       "      <td>Messenger</td>\n",
       "      <td>Green</td>\n",
       "      <td>24.560936</td>\n",
       "      <td>52.89612</td>\n",
       "    </tr>\n",
       "    <tr>\n",
       "      <th>57</th>\n",
       "      <td>57</td>\n",
       "      <td>Under Armour</td>\n",
       "      <td>NaN</td>\n",
       "      <td>Small</td>\n",
       "      <td>3</td>\n",
       "      <td>NaN</td>\n",
       "      <td>No</td>\n",
       "      <td>Messenger</td>\n",
       "      <td>Black</td>\n",
       "      <td>13.304912</td>\n",
       "      <td>18.09281</td>\n",
       "    </tr>\n",
       "    <tr>\n",
       "      <th>66</th>\n",
       "      <td>66</td>\n",
       "      <td>Puma</td>\n",
       "      <td>NaN</td>\n",
       "      <td>Medium</td>\n",
       "      <td>8</td>\n",
       "      <td>No</td>\n",
       "      <td>No</td>\n",
       "      <td>Backpack</td>\n",
       "      <td>Green</td>\n",
       "      <td>20.270698</td>\n",
       "      <td>136.43281</td>\n",
       "    </tr>\n",
       "    <tr>\n",
       "      <th>68</th>\n",
       "      <td>68</td>\n",
       "      <td>Adidas</td>\n",
       "      <td>Nylon</td>\n",
       "      <td>Large</td>\n",
       "      <td>7</td>\n",
       "      <td>No</td>\n",
       "      <td>No</td>\n",
       "      <td>Backpack</td>\n",
       "      <td>NaN</td>\n",
       "      <td>8.739629</td>\n",
       "      <td>77.20379</td>\n",
       "    </tr>\n",
       "    <tr>\n",
       "      <th>72</th>\n",
       "      <td>72</td>\n",
       "      <td>Puma</td>\n",
       "      <td>Canvas</td>\n",
       "      <td>Medium</td>\n",
       "      <td>8</td>\n",
       "      <td>NaN</td>\n",
       "      <td>No</td>\n",
       "      <td>Tote</td>\n",
       "      <td>Green</td>\n",
       "      <td>27.371251</td>\n",
       "      <td>30.35725</td>\n",
       "    </tr>\n",
       "    <tr>\n",
       "      <th>74</th>\n",
       "      <td>74</td>\n",
       "      <td>Under Armour</td>\n",
       "      <td>Leather</td>\n",
       "      <td>NaN</td>\n",
       "      <td>5</td>\n",
       "      <td>Yes</td>\n",
       "      <td>Yes</td>\n",
       "      <td>Backpack</td>\n",
       "      <td>Black</td>\n",
       "      <td>19.859551</td>\n",
       "      <td>76.79518</td>\n",
       "    </tr>\n",
       "    <tr>\n",
       "      <th>77</th>\n",
       "      <td>77</td>\n",
       "      <td>Jansport</td>\n",
       "      <td>Leather</td>\n",
       "      <td>Large</td>\n",
       "      <td>5</td>\n",
       "      <td>No</td>\n",
       "      <td>No</td>\n",
       "      <td>Messenger</td>\n",
       "      <td>NaN</td>\n",
       "      <td>18.274638</td>\n",
       "      <td>57.40454</td>\n",
       "    </tr>\n",
       "    <tr>\n",
       "      <th>88</th>\n",
       "      <td>88</td>\n",
       "      <td>Under Armour</td>\n",
       "      <td>NaN</td>\n",
       "      <td>Medium</td>\n",
       "      <td>1</td>\n",
       "      <td>Yes</td>\n",
       "      <td>Yes</td>\n",
       "      <td>Tote</td>\n",
       "      <td>Green</td>\n",
       "      <td>23.592565</td>\n",
       "      <td>25.50666</td>\n",
       "    </tr>\n",
       "    <tr>\n",
       "      <th>89</th>\n",
       "      <td>89</td>\n",
       "      <td>Puma</td>\n",
       "      <td>Canvas</td>\n",
       "      <td>Small</td>\n",
       "      <td>2</td>\n",
       "      <td>Yes</td>\n",
       "      <td>Yes</td>\n",
       "      <td>Backpack</td>\n",
       "      <td>NaN</td>\n",
       "      <td>25.126783</td>\n",
       "      <td>60.89423</td>\n",
       "    </tr>\n",
       "    <tr>\n",
       "      <th>90</th>\n",
       "      <td>90</td>\n",
       "      <td>NaN</td>\n",
       "      <td>Leather</td>\n",
       "      <td>Medium</td>\n",
       "      <td>8</td>\n",
       "      <td>Yes</td>\n",
       "      <td>No</td>\n",
       "      <td>Tote</td>\n",
       "      <td>Blue</td>\n",
       "      <td>16.594824</td>\n",
       "      <td>142.11363</td>\n",
       "    </tr>\n",
       "    <tr>\n",
       "      <th>92</th>\n",
       "      <td>92</td>\n",
       "      <td>Jansport</td>\n",
       "      <td>Nylon</td>\n",
       "      <td>Small</td>\n",
       "      <td>6</td>\n",
       "      <td>NaN</td>\n",
       "      <td>Yes</td>\n",
       "      <td>Backpack</td>\n",
       "      <td>Black</td>\n",
       "      <td>22.908736</td>\n",
       "      <td>49.96718</td>\n",
       "    </tr>\n",
       "    <tr>\n",
       "      <th>98</th>\n",
       "      <td>98</td>\n",
       "      <td>Nike</td>\n",
       "      <td>Nylon</td>\n",
       "      <td>Large</td>\n",
       "      <td>6</td>\n",
       "      <td>No</td>\n",
       "      <td>Yes</td>\n",
       "      <td>NaN</td>\n",
       "      <td>Green</td>\n",
       "      <td>21.703075</td>\n",
       "      <td>87.18326</td>\n",
       "    </tr>\n",
       "    <tr>\n",
       "      <th>99</th>\n",
       "      <td>99</td>\n",
       "      <td>Under Armour</td>\n",
       "      <td>Nylon</td>\n",
       "      <td>Small</td>\n",
       "      <td>9</td>\n",
       "      <td>No</td>\n",
       "      <td>No</td>\n",
       "      <td>Messenger</td>\n",
       "      <td>NaN</td>\n",
       "      <td>14.955367</td>\n",
       "      <td>86.66558</td>\n",
       "    </tr>\n",
       "    <tr>\n",
       "      <th>103</th>\n",
       "      <td>103</td>\n",
       "      <td>Adidas</td>\n",
       "      <td>Polyester</td>\n",
       "      <td>NaN</td>\n",
       "      <td>8</td>\n",
       "      <td>Yes</td>\n",
       "      <td>Yes</td>\n",
       "      <td>Backpack</td>\n",
       "      <td>Pink</td>\n",
       "      <td>23.438971</td>\n",
       "      <td>58.21448</td>\n",
       "    </tr>\n",
       "    <tr>\n",
       "      <th>105</th>\n",
       "      <td>105</td>\n",
       "      <td>Jansport</td>\n",
       "      <td>Nylon</td>\n",
       "      <td>Medium</td>\n",
       "      <td>2</td>\n",
       "      <td>Yes</td>\n",
       "      <td>NaN</td>\n",
       "      <td>Backpack</td>\n",
       "      <td>Green</td>\n",
       "      <td>13.067869</td>\n",
       "      <td>34.03546</td>\n",
       "    </tr>\n",
       "    <tr>\n",
       "      <th>112</th>\n",
       "      <td>112</td>\n",
       "      <td>Nike</td>\n",
       "      <td>Canvas</td>\n",
       "      <td>Medium</td>\n",
       "      <td>7</td>\n",
       "      <td>No</td>\n",
       "      <td>Yes</td>\n",
       "      <td>Tote</td>\n",
       "      <td>NaN</td>\n",
       "      <td>5.000000</td>\n",
       "      <td>79.74392</td>\n",
       "    </tr>\n",
       "    <tr>\n",
       "      <th>119</th>\n",
       "      <td>119</td>\n",
       "      <td>Puma</td>\n",
       "      <td>Leather</td>\n",
       "      <td>Large</td>\n",
       "      <td>6</td>\n",
       "      <td>No</td>\n",
       "      <td>NaN</td>\n",
       "      <td>Tote</td>\n",
       "      <td>Gray</td>\n",
       "      <td>25.217609</td>\n",
       "      <td>76.17432</td>\n",
       "    </tr>\n",
       "    <tr>\n",
       "      <th>125</th>\n",
       "      <td>125</td>\n",
       "      <td>NaN</td>\n",
       "      <td>Polyester</td>\n",
       "      <td>Small</td>\n",
       "      <td>8</td>\n",
       "      <td>No</td>\n",
       "      <td>No</td>\n",
       "      <td>Backpack</td>\n",
       "      <td>Red</td>\n",
       "      <td>7.922756</td>\n",
       "      <td>64.32242</td>\n",
       "    </tr>\n",
       "    <tr>\n",
       "      <th>130</th>\n",
       "      <td>130</td>\n",
       "      <td>Adidas</td>\n",
       "      <td>NaN</td>\n",
       "      <td>Medium</td>\n",
       "      <td>5</td>\n",
       "      <td>Yes</td>\n",
       "      <td>No</td>\n",
       "      <td>Backpack</td>\n",
       "      <td>Gray</td>\n",
       "      <td>25.878880</td>\n",
       "      <td>102.11413</td>\n",
       "    </tr>\n",
       "    <tr>\n",
       "      <th>137</th>\n",
       "      <td>137</td>\n",
       "      <td>NaN</td>\n",
       "      <td>Nylon</td>\n",
       "      <td>Medium</td>\n",
       "      <td>3</td>\n",
       "      <td>Yes</td>\n",
       "      <td>No</td>\n",
       "      <td>Backpack</td>\n",
       "      <td>Green</td>\n",
       "      <td>13.051134</td>\n",
       "      <td>34.86676</td>\n",
       "    </tr>\n",
       "    <tr>\n",
       "      <th>153</th>\n",
       "      <td>153</td>\n",
       "      <td>Puma</td>\n",
       "      <td>Leather</td>\n",
       "      <td>Large</td>\n",
       "      <td>5</td>\n",
       "      <td>No</td>\n",
       "      <td>Yes</td>\n",
       "      <td>Messenger</td>\n",
       "      <td>NaN</td>\n",
       "      <td>15.665075</td>\n",
       "      <td>33.01433</td>\n",
       "    </tr>\n",
       "    <tr>\n",
       "      <th>157</th>\n",
       "      <td>157</td>\n",
       "      <td>Jansport</td>\n",
       "      <td>Leather</td>\n",
       "      <td>Medium</td>\n",
       "      <td>5</td>\n",
       "      <td>Yes</td>\n",
       "      <td>Yes</td>\n",
       "      <td>Backpack</td>\n",
       "      <td>NaN</td>\n",
       "      <td>12.824774</td>\n",
       "      <td>122.12566</td>\n",
       "    </tr>\n",
       "    <tr>\n",
       "      <th>158</th>\n",
       "      <td>158</td>\n",
       "      <td>Nike</td>\n",
       "      <td>Polyester</td>\n",
       "      <td>Medium</td>\n",
       "      <td>5</td>\n",
       "      <td>Yes</td>\n",
       "      <td>No</td>\n",
       "      <td>NaN</td>\n",
       "      <td>Gray</td>\n",
       "      <td>18.075631</td>\n",
       "      <td>69.46154</td>\n",
       "    </tr>\n",
       "    <tr>\n",
       "      <th>183</th>\n",
       "      <td>183</td>\n",
       "      <td>NaN</td>\n",
       "      <td>Polyester</td>\n",
       "      <td>Large</td>\n",
       "      <td>10</td>\n",
       "      <td>No</td>\n",
       "      <td>Yes</td>\n",
       "      <td>Tote</td>\n",
       "      <td>Pink</td>\n",
       "      <td>7.289852</td>\n",
       "      <td>84.12609</td>\n",
       "    </tr>\n",
       "    <tr>\n",
       "      <th>185</th>\n",
       "      <td>185</td>\n",
       "      <td>Puma</td>\n",
       "      <td>Nylon</td>\n",
       "      <td>Medium</td>\n",
       "      <td>4</td>\n",
       "      <td>Yes</td>\n",
       "      <td>Yes</td>\n",
       "      <td>NaN</td>\n",
       "      <td>Blue</td>\n",
       "      <td>9.536969</td>\n",
       "      <td>83.71666</td>\n",
       "    </tr>\n",
       "    <tr>\n",
       "      <th>191</th>\n",
       "      <td>191</td>\n",
       "      <td>Jansport</td>\n",
       "      <td>Canvas</td>\n",
       "      <td>Medium</td>\n",
       "      <td>8</td>\n",
       "      <td>Yes</td>\n",
       "      <td>NaN</td>\n",
       "      <td>Tote</td>\n",
       "      <td>Red</td>\n",
       "      <td>12.882365</td>\n",
       "      <td>64.93777</td>\n",
       "    </tr>\n",
       "    <tr>\n",
       "      <th>198</th>\n",
       "      <td>198</td>\n",
       "      <td>Adidas</td>\n",
       "      <td>Nylon</td>\n",
       "      <td>Medium</td>\n",
       "      <td>1</td>\n",
       "      <td>NaN</td>\n",
       "      <td>No</td>\n",
       "      <td>Tote</td>\n",
       "      <td>Blue</td>\n",
       "      <td>18.463459</td>\n",
       "      <td>43.34720</td>\n",
       "    </tr>\n",
       "    <tr>\n",
       "      <th>211</th>\n",
       "      <td>211</td>\n",
       "      <td>Under Armour</td>\n",
       "      <td>Nylon</td>\n",
       "      <td>Small</td>\n",
       "      <td>5</td>\n",
       "      <td>NaN</td>\n",
       "      <td>No</td>\n",
       "      <td>Tote</td>\n",
       "      <td>Blue</td>\n",
       "      <td>19.818539</td>\n",
       "      <td>19.51109</td>\n",
       "    </tr>\n",
       "    <tr>\n",
       "      <th>214</th>\n",
       "      <td>214</td>\n",
       "      <td>Adidas</td>\n",
       "      <td>Canvas</td>\n",
       "      <td>Medium</td>\n",
       "      <td>1</td>\n",
       "      <td>Yes</td>\n",
       "      <td>No</td>\n",
       "      <td>Tote</td>\n",
       "      <td>NaN</td>\n",
       "      <td>21.869574</td>\n",
       "      <td>40.87501</td>\n",
       "    </tr>\n",
       "    <tr>\n",
       "      <th>217</th>\n",
       "      <td>217</td>\n",
       "      <td>Jansport</td>\n",
       "      <td>Polyester</td>\n",
       "      <td>Large</td>\n",
       "      <td>8</td>\n",
       "      <td>Yes</td>\n",
       "      <td>Yes</td>\n",
       "      <td>Backpack</td>\n",
       "      <td>NaN</td>\n",
       "      <td>25.977663</td>\n",
       "      <td>40.16803</td>\n",
       "    </tr>\n",
       "    <tr>\n",
       "      <th>229</th>\n",
       "      <td>229</td>\n",
       "      <td>Jansport</td>\n",
       "      <td>Polyester</td>\n",
       "      <td>Large</td>\n",
       "      <td>5</td>\n",
       "      <td>Yes</td>\n",
       "      <td>No</td>\n",
       "      <td>NaN</td>\n",
       "      <td>Green</td>\n",
       "      <td>5.000000</td>\n",
       "      <td>47.78291</td>\n",
       "    </tr>\n",
       "  </tbody>\n",
       "</table>\n",
       "</div>"
      ],
      "text/plain": [
       "      id         Brand   Material    Size  Compartments Laptop Compartment  \\\n",
       "5      5          Nike     Canvas  Medium            10                 No   \n",
       "6      6          Nike        NaN   Large             3                 No   \n",
       "10    10          Nike  Polyester   Large             1                Yes   \n",
       "11    11          Nike  Polyester     NaN            10                 No   \n",
       "21    21  Under Armour  Polyester     NaN             9                Yes   \n",
       "22    22          Puma      Nylon   Large             7                Yes   \n",
       "30    30           NaN    Leather   Large             3                 No   \n",
       "38    38        Adidas  Polyester     NaN             5                Yes   \n",
       "48    48           NaN     Canvas  Medium             2                 No   \n",
       "54    54        Adidas  Polyester   Small             1                NaN   \n",
       "57    57  Under Armour        NaN   Small             3                NaN   \n",
       "66    66          Puma        NaN  Medium             8                 No   \n",
       "68    68        Adidas      Nylon   Large             7                 No   \n",
       "72    72          Puma     Canvas  Medium             8                NaN   \n",
       "74    74  Under Armour    Leather     NaN             5                Yes   \n",
       "77    77      Jansport    Leather   Large             5                 No   \n",
       "88    88  Under Armour        NaN  Medium             1                Yes   \n",
       "89    89          Puma     Canvas   Small             2                Yes   \n",
       "90    90           NaN    Leather  Medium             8                Yes   \n",
       "92    92      Jansport      Nylon   Small             6                NaN   \n",
       "98    98          Nike      Nylon   Large             6                 No   \n",
       "99    99  Under Armour      Nylon   Small             9                 No   \n",
       "103  103        Adidas  Polyester     NaN             8                Yes   \n",
       "105  105      Jansport      Nylon  Medium             2                Yes   \n",
       "112  112          Nike     Canvas  Medium             7                 No   \n",
       "119  119          Puma    Leather   Large             6                 No   \n",
       "125  125           NaN  Polyester   Small             8                 No   \n",
       "130  130        Adidas        NaN  Medium             5                Yes   \n",
       "137  137           NaN      Nylon  Medium             3                Yes   \n",
       "153  153          Puma    Leather   Large             5                 No   \n",
       "157  157      Jansport    Leather  Medium             5                Yes   \n",
       "158  158          Nike  Polyester  Medium             5                Yes   \n",
       "183  183           NaN  Polyester   Large            10                 No   \n",
       "185  185          Puma      Nylon  Medium             4                Yes   \n",
       "191  191      Jansport     Canvas  Medium             8                Yes   \n",
       "198  198        Adidas      Nylon  Medium             1                NaN   \n",
       "211  211  Under Armour      Nylon   Small             5                NaN   \n",
       "214  214        Adidas     Canvas  Medium             1                Yes   \n",
       "217  217      Jansport  Polyester   Large             8                Yes   \n",
       "229  229      Jansport  Polyester   Large             5                Yes   \n",
       "\n",
       "    Waterproof      Style  Color  Weight Capacity (kg)      Price  \n",
       "5          Yes        NaN  Black              7.241812   20.01553  \n",
       "6           No   Backpack  Green              6.828123   84.80500  \n",
       "10          No   Backpack    NaN             27.806951   68.31047  \n",
       "11          No        NaN   Gray             13.697554   23.25963  \n",
       "21         Yes  Messenger   Gray             11.219052   35.46348  \n",
       "22         NaN   Backpack   Gray             17.181182  132.68502  \n",
       "30         Yes       Tote   Blue             21.304434  138.32699  \n",
       "38         Yes  Messenger  Black             21.547849   53.54452  \n",
       "48          No       Tote    NaN              5.000000   42.28337  \n",
       "54         Yes  Messenger  Green             24.560936   52.89612  \n",
       "57          No  Messenger  Black             13.304912   18.09281  \n",
       "66          No   Backpack  Green             20.270698  136.43281  \n",
       "68          No   Backpack    NaN              8.739629   77.20379  \n",
       "72          No       Tote  Green             27.371251   30.35725  \n",
       "74         Yes   Backpack  Black             19.859551   76.79518  \n",
       "77          No  Messenger    NaN             18.274638   57.40454  \n",
       "88         Yes       Tote  Green             23.592565   25.50666  \n",
       "89         Yes   Backpack    NaN             25.126783   60.89423  \n",
       "90          No       Tote   Blue             16.594824  142.11363  \n",
       "92         Yes   Backpack  Black             22.908736   49.96718  \n",
       "98         Yes        NaN  Green             21.703075   87.18326  \n",
       "99          No  Messenger    NaN             14.955367   86.66558  \n",
       "103        Yes   Backpack   Pink             23.438971   58.21448  \n",
       "105        NaN   Backpack  Green             13.067869   34.03546  \n",
       "112        Yes       Tote    NaN              5.000000   79.74392  \n",
       "119        NaN       Tote   Gray             25.217609   76.17432  \n",
       "125         No   Backpack    Red              7.922756   64.32242  \n",
       "130         No   Backpack   Gray             25.878880  102.11413  \n",
       "137         No   Backpack  Green             13.051134   34.86676  \n",
       "153        Yes  Messenger    NaN             15.665075   33.01433  \n",
       "157        Yes   Backpack    NaN             12.824774  122.12566  \n",
       "158         No        NaN   Gray             18.075631   69.46154  \n",
       "183        Yes       Tote   Pink              7.289852   84.12609  \n",
       "185        Yes        NaN   Blue              9.536969   83.71666  \n",
       "191        NaN       Tote    Red             12.882365   64.93777  \n",
       "198         No       Tote   Blue             18.463459   43.34720  \n",
       "211         No       Tote   Blue             19.818539   19.51109  \n",
       "214         No       Tote    NaN             21.869574   40.87501  \n",
       "217        Yes   Backpack    NaN             25.977663   40.16803  \n",
       "229         No        NaN  Green              5.000000   47.78291  "
      ]
     },
     "execution_count": 24,
     "metadata": {},
     "output_type": "execute_result"
    }
   ],
   "source": [
    "# Null rows dataframe\n",
    "null_rows = train[train.isna().any(axis=1)]\n",
    "null_rows.head(40)"
   ]
  },
  {
   "cell_type": "code",
   "execution_count": 25,
   "metadata": {},
   "outputs": [
    {
     "data": {
      "text/plain": [
       "Brand\n",
       "Adidas          60077\n",
       "Under Armour    59992\n",
       "Nike            57336\n",
       "Puma            56814\n",
       "Jansport        56076\n",
       "Name: count, dtype: int64"
      ]
     },
     "execution_count": 25,
     "metadata": {},
     "output_type": "execute_result"
    }
   ],
   "source": [
    "# Checking the values of the Brand column\n",
    "train.Brand.value_counts()"
   ]
  },
  {
   "cell_type": "code",
   "execution_count": 26,
   "metadata": {},
   "outputs": [],
   "source": [
    "# Handling the null values in brand column\n",
    "train[\"Brand\"] = train[\"Brand\"].fillna(\"Others\")\n",
    "test[\"Brand\"] = test[\"Brand\"].fillna(\"Others\")"
   ]
  },
  {
   "cell_type": "code",
   "execution_count": 27,
   "metadata": {},
   "outputs": [
    {
     "data": {
      "text/plain": [
       "Material\n",
       "Polyester    79630\n",
       "Leather      73416\n",
       "Nylon        70603\n",
       "Canvas       68004\n",
       "Name: count, dtype: int64"
      ]
     },
     "execution_count": 27,
     "metadata": {},
     "output_type": "execute_result"
    }
   ],
   "source": [
    "# Checking the values of the Material column\n",
    "train.Material.value_counts()"
   ]
  },
  {
   "cell_type": "code",
   "execution_count": 28,
   "metadata": {},
   "outputs": [],
   "source": [
    "# Handling the null values in Material column\n",
    "train[\"Material\"] = train[\"Material\"].fillna(\"Others\")\n",
    "test[\"Material\"] = test[\"Material\"].fillna(\"Others\")"
   ]
  },
  {
   "cell_type": "code",
   "execution_count": 29,
   "metadata": {},
   "outputs": [
    {
     "data": {
      "text/plain": [
       "Size\n",
       "Medium    101906\n",
       "Large      98643\n",
       "Small      92856\n",
       "Name: count, dtype: int64"
      ]
     },
     "execution_count": 29,
     "metadata": {},
     "output_type": "execute_result"
    }
   ],
   "source": [
    "# Checking the values of the Size column\n",
    "train.Size.value_counts()"
   ]
  },
  {
   "cell_type": "code",
   "execution_count": 30,
   "metadata": {},
   "outputs": [],
   "source": [
    "# Handling the null values in Size column\n",
    "train[\"Size\"] = train[\"Size\"].fillna(\"Others\")\n",
    "test[\"Size\"] = test[\"Size\"].fillna(\"Others\")"
   ]
  },
  {
   "cell_type": "code",
   "execution_count": 31,
   "metadata": {},
   "outputs": [
    {
     "data": {
      "text/plain": [
       "Laptop Compartment\n",
       "Yes    148342\n",
       "No     144214\n",
       "Name: count, dtype: int64"
      ]
     },
     "execution_count": 31,
     "metadata": {},
     "output_type": "execute_result"
    }
   ],
   "source": [
    "# Checking the values of the Laptop Compartment column\n",
    "train[\"Laptop Compartment\"].value_counts()"
   ]
  },
  {
   "cell_type": "code",
   "execution_count": 32,
   "metadata": {},
   "outputs": [],
   "source": [
    "# Handling the null values in Laptop Compartment column\n",
    "train[\"Laptop Compartment\"] = train[\"Laptop Compartment\"].fillna(method = \"ffill\")\n",
    "test[\"Laptop Compartment\"] = test[\"Laptop Compartment\"].fillna(method = \"ffill\")\n",
    "train[\"Laptop Compartment\"] = train[\"Laptop Compartment\"].fillna(method = \"bfill\")\n",
    "test[\"Laptop Compartment\"] = test[\"Laptop Compartment\"].fillna(method = \"bfill\")"
   ]
  },
  {
   "cell_type": "code",
   "execution_count": 33,
   "metadata": {},
   "outputs": [
    {
     "data": {
      "text/plain": [
       "Waterproof\n",
       "Yes    148077\n",
       "No     144873\n",
       "Name: count, dtype: int64"
      ]
     },
     "execution_count": 33,
     "metadata": {},
     "output_type": "execute_result"
    }
   ],
   "source": [
    "# Checking the values of the Waterproof column\n",
    "train[\"Waterproof\"].value_counts()"
   ]
  },
  {
   "cell_type": "code",
   "execution_count": 34,
   "metadata": {},
   "outputs": [],
   "source": [
    "# Handling the null values in Waterproof column\n",
    "train[\"Waterproof\"] = train[\"Waterproof\"].fillna(method = \"ffill\")\n",
    "test[\"Waterproof\"] = test[\"Waterproof\"].fillna(method = \"ffill\")\n",
    "train[\"Waterproof\"] = train[\"Waterproof\"].fillna(method = \"bfill\")\n",
    "test[\"Waterproof\"] = test[\"Waterproof\"].fillna(method = \"bfill\")"
   ]
  },
  {
   "cell_type": "code",
   "execution_count": 35,
   "metadata": {},
   "outputs": [
    {
     "data": {
      "text/plain": [
       "Style\n",
       "Messenger    100031\n",
       "Tote          97438\n",
       "Backpack      94561\n",
       "Name: count, dtype: int64"
      ]
     },
     "execution_count": 35,
     "metadata": {},
     "output_type": "execute_result"
    }
   ],
   "source": [
    "# Checking the values of the Style column\n",
    "train[\"Style\"].value_counts()"
   ]
  },
  {
   "cell_type": "code",
   "execution_count": 36,
   "metadata": {},
   "outputs": [],
   "source": [
    "# Handling the null values in Style column\n",
    "train[\"Style\"] = train[\"Style\"].fillna(\"Others\")\n",
    "test[\"Style\"] = test[\"Style\"].fillna(\"Others\")"
   ]
  },
  {
   "cell_type": "code",
   "execution_count": 37,
   "metadata": {},
   "outputs": [
    {
     "data": {
      "text/plain": [
       "Color\n",
       "Pink     51690\n",
       "Gray     50280\n",
       "Blue     48097\n",
       "Red      47219\n",
       "Green    46386\n",
       "Black    46378\n",
       "Name: count, dtype: int64"
      ]
     },
     "execution_count": 37,
     "metadata": {},
     "output_type": "execute_result"
    }
   ],
   "source": [
    "# Checking the values of the Color column\n",
    "train[\"Color\"].value_counts()"
   ]
  },
  {
   "cell_type": "code",
   "execution_count": 38,
   "metadata": {},
   "outputs": [],
   "source": [
    "# Handling the null values in Color column\n",
    "train[\"Color\"] = train[\"Color\"].fillna(train[\"Color\"].mode()[0])\n",
    "test[\"Color\"] = test[\"Color\"].fillna(test[\"Color\"].mode()[0])"
   ]
  },
  {
   "cell_type": "code",
   "execution_count": 39,
   "metadata": {},
   "outputs": [],
   "source": [
    "# Handling the null values in Weight Capacity (kg) column\n",
    "train[\"Weight Capacity (kg)\"] = train[\"Weight Capacity (kg)\"].fillna(train[\"Weight Capacity (kg)\"].median())\n",
    "test[\"Weight Capacity (kg)\"] = test[\"Weight Capacity (kg)\"].fillna(test[\"Weight Capacity (kg)\"].median())"
   ]
  },
  {
   "cell_type": "code",
   "execution_count": 40,
   "metadata": {},
   "outputs": [
    {
     "name": "stdout",
     "output_type": "stream",
     "text": [
      "Train missing values - 0\n",
      "Test missing values - 0\n"
     ]
    }
   ],
   "source": [
    "# Chcking if imputation wa successful\n",
    "print(f\"Train missing values - {train.isna().sum().sum()}\")\n",
    "print(f\"Test missing values - {train.isna().sum().sum()}\")"
   ]
  },
  {
   "cell_type": "markdown",
   "metadata": {},
   "source": [
    "# Exploratory Data Analysis\n",
    "## Introduction\n",
    "The aim of the analysis is to uncover patterns and relationships between variables.\n",
    "\n",
    "## Univariate analysis\n",
    "#### What is the distribution of `Price`?"
   ]
  },
  {
   "cell_type": "code",
   "execution_count": 42,
   "metadata": {},
   "outputs": [
    {
     "data": {
      "image/png": "[encoded data removed]",
      "text/plain": [
       "<Figure size 1200x600 with 1 Axes>"
      ]
     },
     "metadata": {},
     "output_type": "display_data"
    },
    {
     "name": "stdout",
     "output_type": "stream",
     "text": [
      "Shapiro-Wilk test statistic: 0.9558, p-value: 0.0000\n"
     ]
    }
   ],
   "source": [
    "# Plotting kde plot for `price`\n",
    "plt.figure(figsize=(12,6))\n",
    "sns.kdeplot(data=train, x=train.Price,color=\"red\",fill=True)\n",
    "\n",
    "# Adding labels and title\n",
    "plt.xlabel(\"Price\")\n",
    "plt.title(\"Price Distribution\")\n",
    "plt.show();\n",
    "\n",
    "# Checking for normality\n",
    "shapiro_stat, shapiro_p = shapiro(train[\"Price\"])\n",
    "print(f\"Shapiro-Wilk test statistic: {shapiro_stat:.4f}, p-value: {shapiro_p:.4f}\")\n",
    "\n",
    "# p-value < 0.05 -> Reject normality - data is not normal.\n",
    "# p-value > 0.05 -> Data is approximately normal."
   ]
  },
  {
   "cell_type": "code",
   "execution_count": 43,
   "metadata": {},
   "outputs": [
    {
     "data": {
      "image/png": "[encoded data removed]",
      "text/plain": [
       "<Figure size 640x480 with 1 Axes>"
      ]
     },
     "metadata": {},
     "output_type": "display_data"
    },
    {
     "name": "stdout",
     "output_type": "stream",
     "text": [
      "Shapiro-Wilk test statistic: 0.9573, p-value: 0.0000\n"
     ]
    }
   ],
   "source": [
    "from scipy.stats import boxcox\n",
    "\n",
    "# Transforming price vcolumn using boxcox to normalize it\n",
    "train[\"Price_transformed\"], lambda_bc = boxcox(train[\"Price\"])\n",
    "\n",
    "# Plotting kde plot for the original and the transformed price column\n",
    "sns.kdeplot(train[\"Price\"], label = \"Original\", color=\"blue\", fill=True)\n",
    "sns.kdeplot(train[\"Price_transformed\"] , label=\"Transformed\", color = \"red\", fill=True)\n",
    "\n",
    "# Adding label and title\n",
    "plt.legend()\n",
    "plt.title(\"Before and after price transformation\")\n",
    "plt.show()\n",
    "\n",
    "# Checking for normality\n",
    "shapiro_stat, shapiro_p = shapiro(train[\"Price_transformed\"])\n",
    "print(f\"Shapiro-Wilk test statistic: {shapiro_stat:.4f}, p-value: {shapiro_p:.4f}\")\n",
    "\n",
    "# p-value < 0.05 -> Reject normality - data is not normal.\n",
    "# p-value > 0.05 -> Data is approximately normal.\n"
   ]
  },
  {
   "cell_type": "markdown",
   "metadata": {},
   "source": [
    "#### What is the distribution of `Weight Capacity (kg)`?"
   ]
  },
  {
   "cell_type": "code",
   "execution_count": 45,
   "metadata": {},
   "outputs": [
    {
     "data": {
      "image/png": "[encoded data removed]",
      "text/plain": [
       "<Figure size 1200x600 with 1 Axes>"
      ]
     },
     "metadata": {},
     "output_type": "display_data"
    }
   ],
   "source": [
    "# Calculating mean and median\n",
    "mean = np.mean(train[\"Weight Capacity (kg)\"])\n",
    "median = np.median(train[\"Weight Capacity (kg)\"])\n",
    "\n",
    "# Plotting kde plot for `Weight Capacity (kg)`\n",
    "plt.figure(figsize=(12,6))\n",
    "sns.kdeplot(data=train, x=\"Weight Capacity (kg)\", color=\"red\", fill=True)\n",
    "\n",
    "# Adding vertical lines for mean and median\n",
    "plt.axvline(mean, color='blue', linestyle='--', label=f\"Mean: {mean:.2f}\",linewidth=3.5)\n",
    "plt.axvline(median, color='black', linestyle='--', label=f\"Median: {median:.2f}\",linewidth=3.5)\n",
    "\n",
    "# Adding labels and title\n",
    "plt.legend()\n",
    "plt.xlabel(\"Weight Capacity (kg)\")\n",
    "plt.title(\"Backpack Weight Capacity (kg) Distribution\")\n",
    "plt.show()"
   ]
  },
  {
   "cell_type": "markdown",
   "metadata": {},
   "source": [
    "#### What is the distribution of `Brand`?"
   ]
  },
  {
   "cell_type": "code",
   "execution_count": 47,
   "metadata": {},
   "outputs": [
    {
     "data": {
      "image/png": "[encoded data removed]",
      "text/plain": [
       "<Figure size 1200x600 with 1 Axes>"
      ]
     },
     "metadata": {},
     "output_type": "display_data"
    }
   ],
   "source": [
    "# Setting the size of the plot\n",
    "plt.figure(figsize=(12,6))\n",
    "\n",
    "# Getting the value counts for sorting\n",
    "brand_order = train[\"Brand\"].value_counts().index\n",
    "\n",
    "# Plotting a count plot\n",
    "sns.countplot(data=train, x=\"Brand\", palette=\"flare\", order=brand_order)\n",
    "\n",
    "# Adding title\n",
    "plt.title(\"Distribution of brand\")\n",
    "plt.show()"
   ]
  },
  {
   "cell_type": "markdown",
   "metadata": {},
   "source": [
    "#### What is the distribution of `Material`?"
   ]
  },
  {
   "cell_type": "code",
   "execution_count": 49,
   "metadata": {},
   "outputs": [
    {
     "data": {
      "image/png": "[encoded data removed]",
      "text/plain": [
       "<Figure size 1200x600 with 1 Axes>"
      ]
     },
     "metadata": {},
     "output_type": "display_data"
    }
   ],
   "source": [
    "# Setting the size of the plot\n",
    "plt.figure(figsize=(12,6))\n",
    "\n",
    "# Getting the value counts for sorting\n",
    "material_order = train[\"Material\"].value_counts().index\n",
    "\n",
    "# Plotting a count plot\n",
    "sns.countplot(data=train, x=\"Material\", palette=\"flare\", order=material_order)\n",
    "\n",
    "# Adding title\n",
    "plt.title(\"Distribution of Material\")\n",
    "plt.show()"
   ]
  },
  {
   "cell_type": "markdown",
   "metadata": {},
   "source": [
    "#### What is the distribution of `Size`?"
   ]
  },
  {
   "cell_type": "code",
   "execution_count": 51,
   "metadata": {},
   "outputs": [
    {
     "data": {
      "image/png": "[encoded data removed]",
      "text/plain": [
       "<Figure size 1200x600 with 1 Axes>"
      ]
     },
     "metadata": {},
     "output_type": "display_data"
    }
   ],
   "source": [
    "# Setting the size of the plot\n",
    "plt.figure(figsize=(12,6))\n",
    "\n",
    "# Getting the value counts for sorting\n",
    "size_order = train[\"Size\"].value_counts().index\n",
    "\n",
    "# Plotting a count plot\n",
    "sns.countplot(data=train, x=\"Size\", palette=\"flare\", order=size_order)\n",
    "\n",
    "# Adding title\n",
    "plt.title(\"Distribution of Sizes in Backpacks\")\n",
    "plt.show()"
   ]
  },
  {
   "cell_type": "markdown",
   "metadata": {},
   "source": [
    "#### What is the distribution of `Compartments`?"
   ]
  },
  {
   "cell_type": "code",
   "execution_count": 53,
   "metadata": {},
   "outputs": [
    {
     "data": {
      "image/png": "[encoded data removed]",
      "text/plain": [
       "<Figure size 1200x600 with 1 Axes>"
      ]
     },
     "metadata": {},
     "output_type": "display_data"
    }
   ],
   "source": [
    "# Setting the size of the plot\n",
    "plt.figure(figsize=(12,6))\n",
    "\n",
    "# Getting the value counts for sorting\n",
    "compartments_order = train[\"Compartments\"].astype(\"object\").value_counts().index\n",
    "\n",
    "# Plotting a count plot\n",
    "sns.countplot(x=train[\"Compartments\"].astype(\"object\"), palette=\"flare\", order=compartments_order)\n",
    "\n",
    "# Adding title\n",
    "plt.title(\"Distribution of Compartments in Backpacks\")\n",
    "plt.show()"
   ]
  },
  {
   "cell_type": "markdown",
   "metadata": {},
   "source": [
    "#### What is the distribution of `Laptop Compartment`?"
   ]
  },
  {
   "cell_type": "code",
   "execution_count": 55,
   "metadata": {},
   "outputs": [
    {
     "data": {
      "image/png": "[encoded data removed]",
      "text/plain": [
       "<Figure size 1200x600 with 1 Axes>"
      ]
     },
     "metadata": {},
     "output_type": "display_data"
    }
   ],
   "source": [
    "# Setting the size of the plot\n",
    "plt.figure(figsize=(12,6))\n",
    "\n",
    "# Getting the value counts for sorting\n",
    "laptop_compartment_order = train[\"Laptop Compartment\"].value_counts().index\n",
    "\n",
    "# Plotting a count plot\n",
    "sns.countplot(data=train, x=\"Laptop Compartment\", palette=\"flare\", order=laptop_compartment_order)\n",
    "\n",
    "# Adding title\n",
    "plt.title(\"Distribution of Laptop Compartment in Backpacks\")\n",
    "plt.show()"
   ]
  },
  {
   "cell_type": "markdown",
   "metadata": {},
   "source": [
    "#### What is the distribution of `Waterproof`?"
   ]
  },
  {
   "cell_type": "code",
   "execution_count": 57,
   "metadata": {},
   "outputs": [
    {
     "data": {
      "image/png": "[encoded data removed]",
      "text/plain": [
       "<Figure size 1200x600 with 1 Axes>"
      ]
     },
     "metadata": {},
     "output_type": "display_data"
    }
   ],
   "source": [
    "# Setting the size of the plot\n",
    "plt.figure(figsize=(12,6))\n",
    "\n",
    "# Getting the value counts for sorting\n",
    "waterproof_order = train[\"Waterproof\"].value_counts().index\n",
    "\n",
    "# Plotting a count plot\n",
    "sns.countplot(data=train, x=\"Waterproof\", palette=\"flare\", order=waterproof_order)\n",
    "\n",
    "# Adding title\n",
    "plt.title(\"Distribution of waterproofness in Backpacks\")\n",
    "plt.show()"
   ]
  },
  {
   "cell_type": "markdown",
   "metadata": {},
   "source": [
    "#### What is the distribution of `Style`?"
   ]
  },
  {
   "cell_type": "code",
   "execution_count": 59,
   "metadata": {},
   "outputs": [
    {
     "data": {
      "image/png": "[encoded data removed]",
      "text/plain": [
       "<Figure size 1200x600 with 1 Axes>"
      ]
     },
     "metadata": {},
     "output_type": "display_data"
    }
   ],
   "source": [
    "# Setting the size of the plot\n",
    "plt.figure(figsize=(12,6))\n",
    "\n",
    "# Getting the value counts for sorting\n",
    "style_order = train[\"Style\"].value_counts().index\n",
    "\n",
    "# Plotting a count plot\n",
    "sns.countplot(data=train, x=\"Style\", palette=\"flare\", order=style_order)\n",
    "\n",
    "# Adding title\n",
    "plt.title(\"Distribution of Style in Backpacks\")\n",
    "plt.show()"
   ]
  },
  {
   "cell_type": "markdown",
   "metadata": {},
   "source": [
    "#### What is the distribution of `Color`?"
   ]
  },
  {
   "cell_type": "code",
   "execution_count": 61,
   "metadata": {},
   "outputs": [
    {
     "data": {
      "image/png": "[encoded data removed]",
      "text/plain": [
       "<Figure size 1200x600 with 1 Axes>"
      ]
     },
     "metadata": {},
     "output_type": "display_data"
    }
   ],
   "source": [
    "# Setting the size of the plot\n",
    "plt.figure(figsize=(12,6))\n",
    "\n",
    "# Getting the value counts for sorting\n",
    "color_order = train[\"Color\"].value_counts().index\n",
    "\n",
    "# Plotting a count plot\n",
    "sns.countplot(data=train, x=\"Color\", palette=\"flare\", order=color_order)\n",
    "\n",
    "# Adding title\n",
    "plt.title(\"Distribution of Color in Backpacks\")\n",
    "plt.show()"
   ]
  },
  {
   "cell_type": "markdown",
   "metadata": {},
   "source": [
    "# **Exploratory Data Analysis (EDA) Report**\n",
    "\n",
    "## **Introduction**\n",
    "This report performs an exploratory data analysis  on the backpack dataset which contains details about various backpacks including their brand, material,size,number of compartments, laptop compartments,waterproofness, the style, color, weight capacity and their price. The aim of the analysis is to uncover patterns and relationships between these variables.\n",
    "\n",
    "## **Data Overview**\n",
    "There are two dataset, train dataset is for training the model and the test for making predictions.\n",
    "\n",
    "#### Dataset Shape\n",
    "The train dataset has **300,000 rows** and **11 columns** and the test dataset has **200,000 rows** and **10 columns**.\n",
    "\n",
    "#### Column Descriptions\n",
    "- **Brand**: The brand of the bag.\n",
    "- **Material**: The primary material used.\n",
    "- **Size**: The size of the bag.\n",
    "- **Compartments**: The number of compartments in the bag (1 to 10).\n",
    "- **Laptop Compartment**: Whether the bag has a laptop compartment (Yes/No).\n",
    "- **Waterproof**: Whether the bag is waterproof (Yes/No).\n",
    "- **Style**: The style of the bag.\n",
    "- **Color**: The color of the bag.\n",
    "- **Weight Capacity (kg)**: The maximum weight the bag can hold.\n",
    "- **Price**: The price of the bag in USD.\n",
    "\n",
    "### Missing Values\n",
    "Before starting the analysis, I checked for any missing values:\n",
    "- The dataset had **no missing values** in the `Compartment` and `Price` columns.\n",
    "- The `Brand`, `Material`, `Size`, `Laptop Compartments`, `Waterproof`, `Style`, `Color`, and `Weight Capacity (kg)` columns contained a small number of missing entries, which were filled using different imputation methods.\n",
    "\n",
    "## **Univariate Analysis**\n",
    "#### Distribution of **Brand**\n",
    "Adidas is the most common backpack brand in the dataset, followed by Under Armour and Nike.\n",
    "\n",
    "#### Distribution of **Material**\n",
    "Polyester is the most used material for backpacks in this dataset, followed by leather.\n",
    "\n",
    "#### Distribution of **Size**\n",
    "Medium-sized backpacks are more popular than large and small ones. This shows that people prefer a balance between space and ease of carrying.\n",
    "\n",
    "#### Distribution of **Compartments**\n",
    "Backpacks with fewer compartments (1 to 4) are the most common with single-compartment backpacks being the most preferred. This suggests that users generally opt for simpler designs over multi-compartment options.\n",
    "\n",
    "#### Distribution of **Laptop Compartment**\n",
    "Backpacks with a laptop compartment are slightly more common than those without but the difference is not significant. This shows that having a laptop compartment is a common feature but not necessarily a strong differentiator among backpacks in the dataset.\n",
    "\n",
    "#### Distribution of **Waterproof**\n",
    "Backpacks that are waterproof are sightly more common than those that are not waterproof but the difference is not significant.\n",
    "\n",
    "#### Distribution of **Style**\n",
    "Messenger bags are the most preferred type of backpack, followed by tote bags, regular backpacks, and other designs.\n",
    "\n",
    "#### Distribution of **Color**\n",
    "Pink is th most prefered color of bag compared to the other colors\n",
    "\n",
    "#### Distribution of **Weight Capacity (kg)**\n",
    "The Weight Capacity distribution is platykurtic (flat peak and light tails) showing that most backpacks weigh in the mid-range with fewer extreme values at both the low and high ends. This suggests a more uniform spread of wight with some outliers but not an excessive concentration of data around a central value.\n",
    "The average weight capacity of a bag is 18.03kg\n",
    "#### Distribution of **Price**\n",
    "The price distribution is platykurtic (flat peak and light tails) showing that most backpacks are priced in the mid-range with fewer extreme values at both the low and high ends. This suggests a more uniform spread of prices with some outliers but not an excessive concentration of data around a central value. The average price of a bag is 81.41 USD\n",
    "\n",
    "## **Bivariate Analysis**\n"
   ]
  },
  {
   "cell_type": "code",
   "execution_count": 63,
   "metadata": {},
   "outputs": [
    {
     "data": {
      "text/plain": [
       "Index(['id', 'Brand', 'Material', 'Size', 'Compartments', 'Laptop Compartment',\n",
       "       'Waterproof', 'Style', 'Color', 'Weight Capacity (kg)', 'Price',\n",
       "       'Price_transformed'],\n",
       "      dtype='object')"
      ]
     },
     "execution_count": 63,
     "metadata": {},
     "output_type": "execute_result"
    }
   ],
   "source": [
    "train.columns"
   ]
  },
  {
   "cell_type": "code",
   "execution_count": 64,
   "metadata": {},
   "outputs": [
    {
     "data": {
      "text/plain": [
       "id                       object\n",
       "Brand                    object\n",
       "Material                 object\n",
       "Size                     object\n",
       "Compartments              int32\n",
       "Laptop Compartment       object\n",
       "Waterproof               object\n",
       "Style                    object\n",
       "Color                    object\n",
       "Weight Capacity (kg)    float64\n",
       "Price                   float64\n",
       "Price_transformed       float64\n",
       "dtype: object"
      ]
     },
     "execution_count": 64,
     "metadata": {},
     "output_type": "execute_result"
    }
   ],
   "source": [
    "train.dtypes"
   ]
  },
  {
   "cell_type": "code",
   "execution_count": null,
   "metadata": {},
   "outputs": [],
   "source": []
  }
 ],
 "metadata": {
  "kaggle": {
   "accelerator": "none",
   "dataSources": [
    {
     "databundleVersionId": 10951356,
     "sourceId": 90274,
     "sourceType": "competition"
    }
   ],
   "dockerImageVersionId": 30839,
   "isGpuEnabled": false,
   "isInternetEnabled": true,
   "language": "python",
   "sourceType": "notebook"
  },
  "kernelspec": {
   "display_name": "Python [conda env:base] *",
   "language": "python",
   "name": "conda-base-py"
  },
  "language_info": {
   "codemirror_mode": {
    "name": "ipython",
    "version": 3
   },
   "file_extension": ".py",
   "mimetype": "text/x-python",
   "name": "python",
   "nbconvert_exporter": "python",
   "pygments_lexer": "ipython3",
   "version": "3.12.4"
  }
 },
 "nbformat": 4,
 "nbformat_minor": 4
}
